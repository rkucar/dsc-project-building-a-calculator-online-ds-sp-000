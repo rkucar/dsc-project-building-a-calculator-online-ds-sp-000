{
 "cells": [
  {
   "cell_type": "markdown",
   "metadata": {},
   "source": [
    "# Functions Practice: Building a Calculator\n",
    "\n",
    "\n",
    "## Introduction \n",
    "\n",
    "In this project, you'll create a simple calculator which can perform basic arithmetic operations like addition, subtraction, multiplication, or division depending on the user input.\n",
    "\n",
    "## Objectives\n",
    "\n",
    "In this lab you will:\n",
    "\n",
    "- Use a while loop \n",
    "- Incorporate input/output functionality in code to allow for user interaction  \n",
    "- Declare and use a function with arguments \n",
    "- Use break and continue to add control flow to a while loop \n",
    "\n",
    "\n",
    "\n",
    "## Approach \n",
    "\n",
    "- User chooses the desired operation. Options 1, 2, 3, and 4 are valid options for operations   \n",
    "- Two numbers are taken and an `if…elif…else` branching is used to execute a particular section \n",
    "- Using functions `add()`, `subtract()`, `multiply()`, and `divide()` evaluate respective operations \n",
    "- The code should handle exceptions and must return **\"invalid input\"** when an unexpected character is given in the input (anything other than 1 - 4) \n",
    "\n",
    "## Example interface\n",
    "Here is the interface you are expected to build. Don't worry if it is not 100% the same as what is shown. Focus more on the getting the logic correct at this stage. \n",
    "\n",
    "```\n",
    "Please select an operation:\n",
    "1. Add\n",
    "2. Subtract\n",
    "3. Multiply\n",
    "4. Divide\n",
    "\n",
    "Select operations from 1, 2, 3, 4 : 1\n",
    "Enter first number : 20\n",
    "Enter second number : 13\n",
    "20 + 13 = 33\n",
    "```\n",
    "\n",
    "## Creating arithmetic functions\n",
    "\n",
    "We'll create four functions, one for each arithmetic operation which will perform the required operation and return the resulting value as shown below:"
   ]
  },
  {
   "cell_type": "code",
   "execution_count": 1,
   "metadata": {},
   "outputs": [],
   "source": [
    "# Function to add two numbers \n",
    "def add(num1, num2):\n",
    "    # Perform the calculation\n",
    "    return num1 + num2"
   ]
  },
  {
   "cell_type": "code",
   "execution_count": 2,
   "metadata": {},
   "outputs": [],
   "source": [
    "# Function to subtract two numbers \n",
    "def subtract(num1, num2):\n",
    "    # Perform the calculation\n",
    "    return num1 - num2"
   ]
  },
  {
   "cell_type": "code",
   "execution_count": 3,
   "metadata": {},
   "outputs": [],
   "source": [
    "# Function to multiply two numbers\n",
    "def multiply(num1, num2):\n",
    "    # Perform the calculation\n",
    "    return num1 * num2"
   ]
  },
  {
   "cell_type": "code",
   "execution_count": 4,
   "metadata": {},
   "outputs": [],
   "source": [
    "# Function to divide two numbers\n",
    "def divide(num1, num2):\n",
    "    # Perform the calculation\n",
    "    return num1 / num2"
   ]
  },
  {
   "cell_type": "markdown",
   "metadata": {},
   "source": [
    "## Create a command-line user interface\n",
    "We'll now write the main program body to take user input and call the relevant function:"
   ]
  },
  {
   "cell_type": "code",
   "execution_count": 5,
   "metadata": {},
   "outputs": [
    {
     "name": "stdout",
     "output_type": "stream",
     "text": [
      "Select operations from 1, 2, 3, 4:\n",
      "1. Add\n",
      "2. Subtract\n",
      "3. Multiply\n",
      "4. Divide\n",
      "Enter choice (1/2/3/4):2\n",
      "Enter first number:36\n",
      "Enter second number:21\n",
      "36 - 21 = 15\n"
     ]
    }
   ],
   "source": [
    "# Print user menu \n",
    "print('Select operations from 1, 2, 3, 4:')\n",
    "print('1. Add')\n",
    "print('2. Subtract')\n",
    "print('3. Multiply')\n",
    "print('4. Divide')\n",
    "\n",
    "\n",
    "# Take input from the user for operation, followed by numbers \n",
    "select = input('Enter choice (1/2/3/4):')\n",
    "num_1 = int(input('Enter first number:'))\n",
    "num_2 = int(input('Enter second number:'))\n",
    "\n",
    "if select == '1':\n",
    "    print(num_1, '+', num_2, '=', add(num_1, num_2))\n",
    "elif select == '2':\n",
    "    print(num_1, '-', num_2, '=', subtract(num_1, num_2))\n",
    "elif select == '3':\n",
    "    print(num_1, '*', num_2, '=', multiply(num_1, num_2))\n",
    "elif select == '4':\n",
    "    print(num_1, '/', num_2, '=', devide(num_1, num_2))\n",
    "else:\n",
    "    print('invalid input')\n",
    "\n",
    "\n",
    "\n",
    "\n",
    "# Based on operation, pass the two numbers to respective function\n",
    "# Print the output in a nice manner\n",
    "# Print \"Invalid input\" if an unexpected character is seen in input\n",
    "\n",
    "\n",
    "# Expected output    \n",
    "\n",
    "# Please select operation -\n",
    "# 1. Add\n",
    "# 2. Subtract\n",
    "# 3. Multiply\n",
    "# 4. Divide\n",
    "\n",
    "# Select operations from 1, 2, 3, 4 :1\n",
    "# Enter first number: 2\n",
    "# Enter second number: 3\n",
    "# 2 + 3 = 5"
   ]
  },
  {
   "cell_type": "markdown",
   "metadata": {},
   "source": [
    "Please select operation -\n",
    "1. Add\n",
    "2. Subtract\n",
    "3. Multiply\n",
    "4. Divide\n",
    "\n",
    "Select operations from 1, 2, 3, 4 :1    \n",
    "Enter first number: 2    \n",
    "Enter second number: 3    \n",
    "2 + 3 = 5 "
   ]
  },
  {
   "cell_type": "markdown",
   "metadata": {},
   "source": [
    "## Bring in the `while` loop\n",
    "\n",
    "We can see how the logic set by using `if-else` statements, along with functions can be used to control the flow of the program in an easy way. Let's add more functionality to our calculator as below:\n",
    "\n",
    "> Let's try to make it a bit more interesting by introducing the behaviour of a real calculator so our users can choose to either continue with calculations OR exit the system. Users gets this functionality by pressing `y` for yes and `n` for no towards continuation.\n",
    "\n",
    "## Example interface\n",
    "\n",
    "**Notice `continue: y/n` at the bottom of interface.**\n",
    "\n",
    "```\n",
    "Please select an operation:\n",
    "1. Add\n",
    "2. Subtract\n",
    "3. Multiply\n",
    "4. Divide\n",
    "\n",
    "Select operations from 1, 2, 3, 4 : 1\n",
    "Enter first number : 20\n",
    "Enter second number : 13\n",
    "20 + 13 = 33\n",
    "\n",
    "Continue: y/n\n",
    "```\n",
    "\n",
    "Let's work towards implementing iteration into the equation and enclose above I/O interface inside a `while` loop."
   ]
  },
  {
   "cell_type": "code",
   "execution_count": 6,
   "metadata": {},
   "outputs": [
    {
     "name": "stdout",
     "output_type": "stream",
     "text": [
      "Enter choice (1/2/3/4):1\n",
      "Enter first number:10\n",
      "Enter second number:5\n",
      "10 + 5 = 15\n",
      "Continue? y/n:y\n",
      "Enter choice (1/2/3/4):3\n",
      "Enter first number:54\n",
      "Enter second number:2\n",
      "54 * 2 = 108\n",
      "Continue? y/n:y\n",
      "Enter choice (1/2/3/4):5\n",
      "Enter first number:12\n",
      "Enter second number:45\n",
      "invalid input\n",
      "Continue? y/n:n\n"
     ]
    }
   ],
   "source": [
    "# Initialize the code with cont (continue) flag set to yes (y)\n",
    "\n",
    "cont = 'y'\n",
    "\n",
    "while cont == 'y':\n",
    "    \n",
    "    select = input('Enter choice (1/2/3/4):')\n",
    "    num_1 = int(input('Enter first number:'))\n",
    "    num_2 = int(input('Enter second number:'))\n",
    "\n",
    "    if select == '1':\n",
    "        print(num_1, '+', num_2, '=', add(num_1, num_2))\n",
    "    elif select == '2':\n",
    "        print(num_1, '-', num_2, '=', subtract(num_1, num_2))\n",
    "    elif select == '3':\n",
    "        print(num_1, '*', num_2, '=', multiply(num_1, num_2))\n",
    "    elif select == '4':\n",
    "        print(num_1, '/', num_2, '=', devide(num_1, num_2))\n",
    "    else:\n",
    "        print('invalid input')\n",
    "        \n",
    "    cont = input('Continue? y/n:')\n",
    "    if cont == 'n':\n",
    "        break\n",
    "\n",
    "\n",
    "# Check for user input after each iteration of the code in a while loop\n",
    "\n",
    "\n",
    "        # Enclose the I/O  code block inside the while loop\n",
    "        \n",
    "\n",
    "\n",
    "# Expected output format\n",
    "\n",
    "# Select operations from 1, 2, 3, 4 :4\n",
    "# Enter first number: 5\n",
    "# Enter second number: 4\n",
    "# Press d for division and m for modulo operator :m\n",
    "# 5 / 4 = 1\n",
    "# Continue? y/n:y\n",
    "# Select operations from 1, 2, 3, 4 :4\n",
    "# Enter first number: 5\n",
    "# Enter second number: 4\n",
    "# Press d for division and m for modulo operator :d\n",
    "# 5 / 4 = 1.25"
   ]
  },
  {
   "cell_type": "markdown",
   "metadata": {},
   "source": [
    "## Level up (Optional)\n",
    "\n",
    "The `while` loop shown above allows the iteration through the code until a specific input from user i.e. `n` is noticed. Let's add some more functionality to this code by asking users about the type of division they are interested in, and this could be either normal division (as before) or a modulo operator (shows remainder).\n",
    "\n",
    "> Change the code in the division function so that if a user selects division operation, the code should ask the user if they want a normal division `/` or floor division `//`, or a modulo division `%` which only returns the remainder of a division. The program should return an exception for any other inputs. "
   ]
  },
  {
   "cell_type": "code",
   "execution_count": null,
   "metadata": {},
   "outputs": [
    {
     "name": "stdout",
     "output_type": "stream",
     "text": [
      "Enter choice (1/2/3/4):4\n",
      "Enter first number:12\n",
      "Enter second number:4\n",
      "Enter d for normal division, f for floor dividion, m for modulo divisiond\n",
      "3.0\n",
      "Continue? y/n:y\n",
      "Enter choice (1/2/3/4):4\n",
      "Enter first number:15\n",
      "Enter second number:3\n",
      "Enter d for normal division, f for floor dividion, m for modulo divisionm\n",
      "0\n",
      "Continue? y/n:y\n",
      "Enter choice (1/2/3/4):4\n",
      "Enter first number:86\n",
      "Enter second number:23\n",
      "Enter d for normal division, f for floor dividion, m for modulo divisionm\n",
      "17\n",
      "Continue? y/n:y\n"
     ]
    }
   ],
   "source": [
    "def divide_v2(num1, num2):\n",
    "    # Perform the calculation\n",
    "    div = input('Enter d for normal division, f for floor dividion, m for modulo division')\n",
    "    if div == 'd':\n",
    "        return num1 / num2\n",
    "    elif div == 'f':\n",
    "        return num1 // num2\n",
    "    elif div == 'm':\n",
    "        return num1 % num2\n",
    "    \n",
    "\n",
    "\n",
    "cont = 'y'\n",
    "\n",
    "while cont == 'y':\n",
    "    \n",
    "    select = input('Enter choice (1/2/3/4):')\n",
    "    num_1 = int(input('Enter first number:'))\n",
    "    num_2 = int(input('Enter second number:'))\n",
    "\n",
    "    if select == '1':\n",
    "        print(num_1, '+', num_2, '=', add(num_1, num_2))\n",
    "    elif select == '2':\n",
    "        print(num_1, '-', num_2, '=', subtract(num_1, num_2))\n",
    "    elif select == '3':\n",
    "        print(num_1, '*', num_2, '=', multiply(num_1, num_2))\n",
    "    elif select == '4':\n",
    "         print(divide_v2(num_1, num_2))\n",
    "        \n",
    "    else:\n",
    "        print('invalid input')\n",
    "        \n",
    "    cont = input('Continue? y/n:')\n",
    "    if cont == 'n':\n",
    "        break\n"
   ]
  },
  {
   "cell_type": "markdown",
   "metadata": {},
   "source": [
    "## Summary\n",
    "\n",
    "In this lab, we saw how loops and conditions can be used to control the logic of a program execution based on user input. We started with building a simple calculator and incrementally added more functionality to it by adding loops for iteration and further conditions allowing different types of calculations. We also practiced user I/O by taking choices from the users and dealing with exceptions (unexpected input). "
   ]
  }
 ],
 "metadata": {
  "kernelspec": {
   "display_name": "Python 3",
   "language": "python",
   "name": "python3"
  },
  "language_info": {
   "codemirror_mode": {
    "name": "ipython",
    "version": 3
   },
   "file_extension": ".py",
   "mimetype": "text/x-python",
   "name": "python",
   "nbconvert_exporter": "python",
   "pygments_lexer": "ipython3",
   "version": "3.8.3"
  }
 },
 "nbformat": 4,
 "nbformat_minor": 2
}
